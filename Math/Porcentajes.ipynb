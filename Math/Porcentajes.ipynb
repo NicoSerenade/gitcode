{
 "cells": [
  {
   "cell_type": "code",
   "execution_count": 10,
   "metadata": {},
   "outputs": [
    {
     "data": {
      "text/plain": [
       "29386.561536"
      ]
     },
     "execution_count": 10,
     "metadata": {},
     "output_type": "execute_result"
    }
   ],
   "source": [
    "'''Una persona invierte $20,000 en un fondo que ofrece un 8% de interés anual compuesto. Sin retirar dinero, reinvierte todo al final de cada año. ¿Cuánto tendrá al cabo de 5 años?'''\n",
    "\n",
    "inversion = 20000\n",
    "inversion = inversion + ((inversion / 100) * 8) \n",
    "inversion = inversion + ((inversion / 100) * 8) \n",
    "inversion = inversion + ((inversion / 100) * 8) \n",
    "inversion = inversion + ((inversion / 100) * 8) \n",
    "inversion = inversion + ((inversion / 100) * 8) \n",
    "inversion\n"
   ]
  },
  {
   "cell_type": "code",
   "execution_count": 11,
   "metadata": {},
   "outputs": [
    {
     "data": {
      "text/plain": [
       "42000.0"
      ]
     },
     "execution_count": 11,
     "metadata": {},
     "output_type": "execute_result"
    }
   ],
   "source": [
    "'''Un inversor pierde el 20% de su capital en la primera inversión y luego gana el 50% del valor restante en una segunda inversión. Finalmente, en una tercera inversión, pierde el 30% del valor total que le queda. Si el inversor empezó con $50,000, ¿cuánto dinero tiene al final?'''\n",
    "\n",
    "inversion = 50000\n",
    "inversion = inversion - ((inversion / 100)* 20)\n",
    "inversion = inversion + ((inversion / 100) * 50)\n",
    "inversion = inversion - ((inversion / 100) * 30)\n",
    "inversion"
   ]
  },
  {
   "cell_type": "code",
   "execution_count": 18,
   "metadata": {},
   "outputs": [
    {
     "name": "stdout",
     "output_type": "stream",
     "text": [
      "1191.0159999999998 bien\n",
      "1124.8639999999998 salario\n",
      "0.0839619283032302\n",
      "94.44575051888471\n"
     ]
    },
    {
     "data": {
      "text/plain": [
       "0.9444575051888471"
      ]
     },
     "execution_count": 18,
     "metadata": {},
     "output_type": "execute_result"
    }
   ],
   "source": [
    "'''Un bien cuesta $1,000 este año, pero se espera que la inflación sea del 6% anual durante los próximos tres años. Si el salario de una persona se incrementa solo un 4% anual durante ese mismo período, ¿cuánto podrá comprar de ese bien al final del tercer año con su salario aumentado?'''\n",
    "\n",
    "bien = 1000\n",
    "bien = bien + ((bien / 100)*6)\n",
    "bien = bien + ((bien / 100)*6)\n",
    "bien = bien + ((bien / 100)*6)\n",
    "\n",
    "print(bien, 'bien')\n",
    "\n",
    "salario = 1000 \n",
    "salario = salario + ((salario / 100)*4)\n",
    "salario = salario + ((salario / 100)*4)\n",
    "salario = salario + ((salario / 100)*4)\n",
    "print(salario, 'salario')\n",
    "\n",
    "'bien : salario. tengo que convertir el valor mayor en 100 para que me quede una fracción de 100'\n",
    "\n",
    "bien2 = 100\n",
    "\n",
    "fc_bien = bien2 / bien \n",
    "\n",
    "print(fc_bien)\n",
    "\n",
    "salario2 = salario * fc_bien # * si el bien aumenta, el salario tiene que aumentar por definicion de equivalencia\n",
    "\n",
    "print(salario2)\n",
    "\n",
    "resultado = salario2 / bien2\n",
    "\n",
    "resultado\n"
   ]
  },
  {
   "cell_type": "code",
   "execution_count": 19,
   "metadata": {},
   "outputs": [
    {
     "data": {
      "text/plain": [
       "93.33333333333334"
      ]
     },
     "execution_count": 19,
     "metadata": {},
     "output_type": "execute_result"
    }
   ],
   "source": [
    "'''Una empresa fabrica un producto utilizando dos materiales: uno de ellos representa el 70% del volumen del producto y cuesta $15 por unidad, mientras que el otro representa el 30% y cuesta $25 por unidad. ¿Cuál es el costo por unidad del producto final si ambos materiales se mezclan uniformemente?'''\n",
    "\n",
    "producto = 1\n",
    "precio_producto = 40\n",
    "material_barato_cantidad = 0.7 \n",
    "material_barato_precio = 15\n",
    "material_caro_cantidad = 0.3\n",
    "material_caro_precio = 25 # amterial caro precio\n",
    "\n",
    "\n",
    "material_barato_cantidad2 = 0.5\n",
    "material_caro_cantidad2 = 0.5\n",
    "\n",
    "\n",
    "fc_material_barato_cantidad = material_barato_cantidad2 / material_barato_cantidad\n",
    "fc_material_caro_cantidad = material_caro_cantidad2 / material_caro_cantidad\n",
    "\n",
    "precio_producto2 = precio_producto / fc_material_barato_cantidad * fc_material_caro_cantidad\n",
    "precio_producto2\n"
   ]
  },
  {
   "cell_type": "code",
   "execution_count": 21,
   "metadata": {},
   "outputs": [
    {
     "data": {
      "text/plain": [
       "172.5"
      ]
     },
     "execution_count": 21,
     "metadata": {},
     "output_type": "execute_result"
    }
   ],
   "source": [
    "'''Una empresa vende un producto a $150 con un margen de beneficio del 25%. Debido a un aumento en los costos de producción, el precio de venta debe aumentar un 15%. Sin embargo, la empresa quiere mantener el mismo margen de beneficio. ¿Cuál será el nuevo precio de venta?'''\n",
    "\n",
    "precio = 150\n",
    "beneficio = 25 / 100\n",
    "\n",
    "precio2 = precio + ((precio / 100) * 15)\n",
    "precio2\n"
   ]
  },
  {
   "cell_type": "code",
   "execution_count": 22,
   "metadata": {},
   "outputs": [
    {
     "data": {
      "text/plain": [
       "240.0"
      ]
     },
     "execution_count": 22,
     "metadata": {},
     "output_type": "execute_result"
    }
   ],
   "source": [
    "'''Una empresa vende un producto a $200 con un margen de beneficio del 40%. Debido a un aumento en los costos de producción, el precio de venta debe aumentar un 20%. Sin embargo, la empresa quiere mantener el mismo margen de beneficio. ¿Cuál será el nuevo precio de venta?'''\n",
    "\n",
    "precio = 200\n",
    "\n",
    "precio2 = precio + ((precio / 100) * 20)\n",
    "precio2"
   ]
  },
  {
   "cell_type": "code",
   "execution_count": 1,
   "metadata": {},
   "outputs": [
    {
     "data": {
      "text/plain": [
       "23.012500000000003"
      ]
     },
     "execution_count": 1,
     "metadata": {},
     "output_type": "execute_result"
    }
   ],
   "source": [
    "s = 16000\n",
    "a = 3682\n",
    "\n",
    "s2 = 100\n",
    "\n",
    "fc = s2 / s\n",
    "\n",
    "a2 = a * fc\n",
    "\n",
    "a2"
   ]
  },
  {
   "cell_type": "code",
   "execution_count": 2,
   "metadata": {},
   "outputs": [
    {
     "data": {
      "text/plain": [
       "0.8"
      ]
     },
     "execution_count": 2,
     "metadata": {},
     "output_type": "execute_result"
    }
   ],
   "source": [
    "'''En un examen de 50 preguntas, respondes correctamente 40 preguntas. ¿Qué porcentaje de respuestas correctas tienes?\n",
    "'''\n",
    "preguntas = 50\n",
    "answers = 40\n",
    "\n",
    "preguntas2 = 100\n",
    "\n",
    "factor_de_cambio = preguntas2 / preguntas\n",
    "\n",
    "answers2 = answers * factor_de_cambio \n",
    "# * cuando el problema proporcional es mantener una igualdad matematica, es decir, hacer lo mismo arriba y abajo, siempre va a ser A MAS MAS Y A MENOS MENOS\n",
    "\n",
    "respuesta = answers2 / preguntas2\n",
    "\n",
    "respuesta"
   ]
  }
 ],
 "metadata": {
  "kernelspec": {
   "display_name": "Python 3",
   "language": "python",
   "name": "python3"
  },
  "language_info": {
   "codemirror_mode": {
    "name": "ipython",
    "version": 3
   },
   "file_extension": ".py",
   "mimetype": "text/x-python",
   "name": "python",
   "nbconvert_exporter": "python",
   "pygments_lexer": "ipython3",
   "version": "3.13.0"
  }
 },
 "nbformat": 4,
 "nbformat_minor": 2
}
