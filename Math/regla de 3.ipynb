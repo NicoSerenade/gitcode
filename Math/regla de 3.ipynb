{
 "cells": [
  {
   "cell_type": "code",
   "execution_count": 1,
   "id": "1999e965",
   "metadata": {},
   "outputs": [
    {
     "data": {
      "text/plain": [
       "6.0"
      ]
     },
     "execution_count": 1,
     "metadata": {},
     "output_type": "execute_result"
    }
   ],
   "source": [
    "'''Una fábrica produce 240 botellas de jugo en 6 horas trabajando con 4 máquinas. Si la fábrica aumenta su capacidad a 6 máquinas y necesita producir 360 botellas de jugo, ¿cuántas horas tardará en hacerlo?'''\n",
    "\n",
    "# receta \n",
    "\n",
    "fabrica = 1\n",
    "machines = 4\n",
    "horas = 6\n",
    "botellas = 240\n",
    "\n",
    "# receta2\n",
    "\n",
    "fabrica2 = 1\n",
    "machines2 = 6\n",
    "botellas2 = 360\n",
    "# horas2 = ?\n",
    "\n",
    "# Hallar factores de cambio (si hay)\n",
    "\n",
    "fc_fabrica = fabrica2 / fabrica\n",
    "fc_machines = machines2 / machines\n",
    "fc_botellas = botellas2 / botellas\n",
    "\n",
    "# GET RELATION TYPES\n",
    "\n",
    "# fabricas y horas, indirecta /\n",
    "# maquinas y horas, indirecta /\n",
    "# botellas y horas, directa *\n",
    "\n",
    "horas2 = horas / fc_fabrica / fc_machines * fc_botellas\n",
    "horas2 \n",
    "# resultado = 6\n",
    "\n"
   ]
  },
  {
   "cell_type": "code",
   "execution_count": 26,
   "id": "283abffe",
   "metadata": {},
   "outputs": [
    {
     "data": {
      "text/plain": [
       "2073.6"
      ]
     },
     "execution_count": 26,
     "metadata": {},
     "output_type": "execute_result"
    }
   ],
   "source": [
    "'''Una fábrica utiliza 1500 kWh de energía para producir 800 unidades de producto trabajando 10 horas al día durante 5 días. ¿Cuántas unidades de producto podrá producir si utiliza 2700 kWh de energía, trabajando 12 horas al día durante 6 días?'''\n",
    "\n",
    "'1500:800:10:5'\n",
    "\n",
    "Kwh = 1500\n",
    "producto = 800\n",
    "horas_dia = 10\n",
    "dias = 5\n",
    "\n",
    "kwh2 = 2700\n",
    "horas_dia2 = 12\n",
    "dias = 6\n",
    "\n",
    " # analizar las relaciones entre magnitudes y hallar el factor de cambio\n",
    "\n",
    "fc_kwh = 2700 / 1500 # * a más energía más producto\n",
    "fc_horas_dia = 12 / 10 # * a más horas al día mas producto\n",
    "fc_dias = 6 / 5 # * a más días mas producto\n",
    "\n",
    "\n",
    "producto2 = (producto * fc_kwh * fc_horas_dia * fc_dias)\n",
    "producto2\n"
   ]
  },
  {
   "cell_type": "code",
   "execution_count": 4,
   "id": "62fc9815",
   "metadata": {},
   "outputs": [
    {
     "data": {
      "text/plain": [
       "431.3636363636364"
      ]
     },
     "execution_count": 4,
     "metadata": {},
     "output_type": "execute_result"
    }
   ],
   "source": [
    "'''Rendimiento de combustible con ajuste de carga: Un camión con una carga de 7.8 toneladas recorre 365 kilómetros consumiendo 47.25 litros de combustible. Si el mismo camión lleva una carga de 13.2 toneladas, ¿cuántos kilómetros recorrerá con 94.5 litros de combustible manteniendo la misma tasa de consumo por tonelada de carga?'''\n",
    "\n",
    "carga = 7.8\n",
    "carga2 = 13.2\n",
    "\n",
    "distancia = 365\n",
    "\n",
    "gasolina = 47.25\n",
    "gasolina2 = 94.5\n",
    "\n",
    "fc_carga = carga2 / carga # a más carga menos distancia puede recorrer\n",
    "fc_gasolina = gasolina2 / gasolina #a más gasolina más distancia puede recorrer\n",
    "\n",
    "distancia2 = distancia / fc_carga * fc_gasolina\n",
    "distancia2\n",
    "\n",
    "\n",
    "\n"
   ]
  },
  {
   "cell_type": "code",
   "execution_count": 14,
   "id": "c92d7ed0",
   "metadata": {},
   "outputs": [
    {
     "data": {
      "text/plain": [
       "15.260869565217392"
      ]
     },
     "execution_count": 14,
     "metadata": {},
     "output_type": "execute_result"
    }
   ],
   "source": [
    "'''Una empresa de construcción emplea 15 trabajadores para construir un muro de 225 metros en 18 días, trabajando 6 horas al día. A mitad del proyecto, la eficiencia de los trabajadores aumenta en un 15%, y además deciden trabajar 7.5 horas por día a partir del día 10.\n",
    "\n",
    "Pregunta: ¿Cuántos días totales tardará la empresa en completar la construcción del muro, teniendo en cuenta el aumento de eficiencia y las horas extras a partir del día 10?'''\n",
    "\n",
    "'''razón a mantener'''\n",
    "\n",
    "trabajadores = 15\n",
    "muro_size = 225\n",
    "horas_dia = 6\n",
    "dias = 18\n",
    "\n",
    "'''primeros 9 dias'''\n",
    "dias1 = 9\n",
    "fc_dias = dias1 / dias\n",
    "muro_state = muro_size * fc_dias # *  a mas dias mas progreso en el muro\n",
    "\n",
    "''' dia 10 en adelante'''\n",
    "trabajadores2 = trabajadores + (trabajadores / 100) * 15\n",
    "horas_dia2 = 7.5\n",
    "muro_size2 = muro_size - muro_state\n",
    "\n",
    "fc_trabajadores = trabajadores2 / trabajadores # / a mas trabajadores, menos dias en terminar\n",
    "fc_horas_dia = horas_dia2 / horas_dia # / a mas horas al dia menos dias en terminar\n",
    "fc_muro_size = muro_size2 / muro_size # * a mas grande el muro, mas dias en terminar\n",
    "\n",
    "dias2 = dias / fc_trabajadores / fc_horas_dia * fc_muro_size\n",
    "dias2\n",
    "\n",
    "total_dias = dias1 + dias2\n",
    "total_dias\n"
   ]
  }
 ],
 "metadata": {
  "kernelspec": {
   "display_name": "Python 3",
   "language": "python",
   "name": "python3"
  },
  "language_info": {
   "codemirror_mode": {
    "name": "ipython",
    "version": 3
   },
   "file_extension": ".py",
   "mimetype": "text/x-python",
   "name": "python",
   "nbconvert_exporter": "python",
   "pygments_lexer": "ipython3",
   "version": "3.13.0"
  }
 },
 "nbformat": 4,
 "nbformat_minor": 5
}
