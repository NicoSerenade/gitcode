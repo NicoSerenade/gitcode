{
 "cells": [
  {
   "cell_type": "code",
   "execution_count": 43,
   "metadata": {},
   "outputs": [
    {
     "name": "stdout",
     "output_type": "stream",
     "text": [
      "[7/5]\n"
     ]
    }
   ],
   "source": [
    "from sympy import symbols, Eq, solve, simplify, factor, expand\n",
    "\n",
    "x, y = symbols('x y')\n",
    "eq1 = Eq(2*x + 3*x + 3, 10) # 2x + 3x = 3 = 10\n",
    "solution = solve(eq1, x) # solve x in eq1\n",
    "print(solution)"
   ]
  },
  {
   "cell_type": "code",
   "execution_count": 45,
   "metadata": {},
   "outputs": [
    {
     "name": "stdout",
     "output_type": "stream",
     "text": [
      "a**2 - b**2\n"
     ]
    }
   ],
   "source": [
    "from sympy import symbols, Eq, solve, simplify, factor, expand\n",
    "a, b = symbols('a b')\n",
    "ex1 = ((a - b)*(a + b))\n",
    "expanding = expand(ex1)\n",
    "print(expanding) #factor way around of expand\n"
   ]
  },
  {
   "cell_type": "code",
   "execution_count": 37,
   "metadata": {},
   "outputs": [
    {
     "name": "stdout",
     "output_type": "stream",
     "text": [
      "{x: 39/11, y: 18/11}\n"
     ]
    }
   ],
   "source": [
    "from sympy import symbols, Eq, solve\n",
    "\n",
    "# Step 1: Define variables\n",
    "x, y = symbols('x y')\n",
    "\n",
    "# Step 2: Define equations\n",
    "eq1 = Eq(2*x + 3*y, 12)   # 2x + 3y = 12\n",
    "eq2 = Eq(x - 4*y, -3)     # x - 4y = -3\n",
    "\n",
    "# Step 3: Solve the system\n",
    "solution = solve((eq1, eq2), (x, y))\n",
    "print(solution)\n",
    "\n"
   ]
  }
 ],
 "metadata": {
  "kernelspec": {
   "display_name": "venv",
   "language": "python",
   "name": "python3"
  },
  "language_info": {
   "codemirror_mode": {
    "name": "ipython",
    "version": 3
   },
   "file_extension": ".py",
   "mimetype": "text/x-python",
   "name": "python",
   "nbconvert_exporter": "python",
   "pygments_lexer": "ipython3",
   "version": "3.13.0"
  }
 },
 "nbformat": 4,
 "nbformat_minor": 2
}
