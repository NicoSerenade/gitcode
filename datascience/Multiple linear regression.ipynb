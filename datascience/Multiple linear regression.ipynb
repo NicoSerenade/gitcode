{
 "cells": [
  {
   "cell_type": "code",
   "execution_count": 1,
   "id": "fb486209",
   "metadata": {},
   "outputs": [
    {
     "name": "stdout",
     "output_type": "stream",
     "text": [
      "    Size (sqft)  Bedrooms  Location    Price\n",
      "0          1500         3  Suburban   300000\n",
      "1          2500         4     Urban   500000\n",
      "2          1200         2     Rural   150000\n",
      "3          1800         3  Suburban   320000\n",
      "4          1600         3     Urban   350000\n",
      "..          ...       ...       ...      ...\n",
      "95         5400         5  Suburban  1180000\n",
      "96         5500         5     Urban  1200000\n",
      "97         5600         5  Suburban  1220000\n",
      "98         5700         5     Urban  1240000\n",
      "99         5800         5  Suburban  1260000\n",
      "\n",
      "[100 rows x 4 columns]\n",
      "\n",
      "    Size (sqft)  Bedrooms  Location\n",
      "0          1500         3  Suburban\n",
      "1          2500         4     Urban\n",
      "2          1200         2     Rural\n",
      "3          1800         3  Suburban\n",
      "4          1600         3     Urban\n",
      "..          ...       ...       ...\n",
      "95         5400         5  Suburban\n",
      "96         5500         5     Urban\n",
      "97         5600         5  Suburban\n",
      "98         5700         5     Urban\n",
      "99         5800         5  Suburban\n",
      "\n",
      "[100 rows x 3 columns]\n",
      "\n"
     ]
    },
    {
     "data": {
      "text/plain": [
       "0      300000\n",
       "1      500000\n",
       "2      150000\n",
       "3      320000\n",
       "4      350000\n",
       "       ...   \n",
       "95    1180000\n",
       "96    1200000\n",
       "97    1220000\n",
       "98    1240000\n",
       "99    1260000\n",
       "Name: Price, Length: 100, dtype: int64"
      ]
     },
     "execution_count": 1,
     "metadata": {},
     "output_type": "execute_result"
    }
   ],
   "source": [
    "import pandas as pd\n",
    "from sklearn.model_selection import train_test_split\n",
    "from sklearn.linear_model import LinearRegression\n",
    "from sklearn.metrics import mean_absolute_error, mean_squared_error, r2_score\n",
    "from sklearn.preprocessing import OneHotEncoder\n",
    "from sklearn.compose import ColumnTransformer\n",
    "from sklearn.pipeline import Pipeline\n",
    "\n",
    "# Load the data\n",
    "data = pd.read_csv('data/house_prices_multi.csv')\n",
    "\n",
    "# Preprocess the data\n",
    "X = data[['Size (sqft)', 'Bedrooms', 'Location']]\n",
    "y = data['Price']\n",
    "\n",
    "print(data)\n",
    "print('')\n",
    "print(X)\n",
    "print('')\n",
    "y"
   ]
  },
  {
   "cell_type": "code",
   "execution_count": 2,
   "id": "1a1672d1",
   "metadata": {},
   "outputs": [],
   "source": [
    "# Split the data into training and testing sets\n",
    "X_train, X_test, y_train, y_test = train_test_split(X, y, test_size=0.2, random_state=42)"
   ]
  },
  {
   "cell_type": "code",
   "execution_count": 3,
   "id": "a24ab0e2",
   "metadata": {},
   "outputs": [],
   "source": [
    "# One-Hot Encode the 'Location' column\n",
    "# One-Hot Encoding is a technique used to convert categorical data (like strings) into a numerical format that can be used in machine learning models.\n",
    "\n",
    "preprocessor = ColumnTransformer( \n",
    "    transformers=[\n",
    "        ('onehot', OneHotEncoder(), ['Location'])#, # 'onehot' is simply a label that help me seeing what the transformation is doing\n",
    "        #('scaler', StandardScaler(), ['Size (sqft)', 'Bedrooms']) #I can do more transformations to more columns if needed\n",
    "    ],\n",
    "    remainder='passthrough'\n",
    ")\n",
    "\n",
    "# A transformer is any class in scikit-learn that implements the methods\n",
    "#ColumnTransformer allows to transform specific columns. what's inside of () is the format to use it\n",
    "# remainder says what to do with the other columns 'passthrough' mean, do nothing"
   ]
  },
  {
   "cell_type": "code",
   "execution_count": 4,
   "id": "dc6262bf",
   "metadata": {},
   "outputs": [],
   "source": [
    "# Create the model pipeline\n",
    "model = Pipeline(steps=[\n",
    "    ('preprocessor', preprocessor),\n",
    "    ('regressor', LinearRegression())\n",
    "])\n",
    "# Pipeline class is used to chain together different transformers with a model into a single step.\n",
    "# transformers will be apply when model object is called"
   ]
  },
  {
   "cell_type": "code",
   "execution_count": 5,
   "id": "ddb19684",
   "metadata": {},
   "outputs": [],
   "source": [
    "\n",
    "# Train the model\n",
    "model.fit(X_train, y_train) # First follow the pepeline steps, then apply .fit()\n",
    "\n",
    "# Make predictions on the test set\n",
    "y_pred = model.predict(X_test)\n",
    "\n"
   ]
  },
  {
   "cell_type": "code",
   "execution_count": 6,
   "id": "324dc3ba",
   "metadata": {},
   "outputs": [
    {
     "name": "stdout",
     "output_type": "stream",
     "text": [
      "Mean Absolute Error: 19479.800163973458\n",
      "Mean Squared Error: 595062290.678892\n",
      "R² Score: 0.9920657038860129\n"
     ]
    }
   ],
   "source": [
    "# Evaluate the model\n",
    "mae = mean_absolute_error(y_test, y_pred) #returns the average difference between the actual prices (y_test) and the predicted prices (y_pred).\n",
    "mse = mean_squared_error(y_test, y_pred) #MAE but squared. Squaring makes larger errors more significant than smaller ones, penalizing predictions that are far from the true values more heavily.\n",
    "r2 = r2_score(y_test, y_pred) \n",
    "\n",
    "print(f'Mean Absolute Error: {mae}')\n",
    "print(f'Mean Squared Error: {mse}')\n",
    "print(f\"R² Score: {r2}\")\n"
   ]
  },
  {
   "cell_type": "code",
   "execution_count": 7,
   "id": "d526d6fe",
   "metadata": {},
   "outputs": [
    {
     "name": "stdout",
     "output_type": "stream",
     "text": [
      "Predicted price for a 2100 (sqft) Urban house, with 3 bedrooms: $420050.90\n"
     ]
    }
   ],
   "source": [
    "# Example of predicting the price of a new house\n",
    "new_house = pd.DataFrame({\n",
    "    'Size (sqft)': [2100],\n",
    "    'Bedrooms': [3],\n",
    "    'Location': ['Urban']\n",
    "})\n",
    "predicted_price = model.predict(new_house)\n",
    "print(f\"Predicted price for a {new_house.loc[0, 'Size (sqft)']} (sqft) {new_house.loc[0, 'Location']} house, with {new_house.loc[0, 'Bedrooms']} bedrooms: ${predicted_price[0]:.2f}\")"
   ]
  },
  {
   "cell_type": "code",
   "execution_count": 8,
   "id": "143e44a5",
   "metadata": {},
   "outputs": [
    {
     "ename": "ModuleNotFoundError",
     "evalue": "No module named 'seaborn'",
     "output_type": "error",
     "traceback": [
      "\u001b[1;31m---------------------------------------------------------------------------\u001b[0m",
      "\u001b[1;31mModuleNotFoundError\u001b[0m                       Traceback (most recent call last)",
      "Cell \u001b[1;32mIn[8], line 3\u001b[0m\n\u001b[0;32m      1\u001b[0m \u001b[38;5;28;01mimport\u001b[39;00m \u001b[38;5;21;01mpandas\u001b[39;00m \u001b[38;5;28;01mas\u001b[39;00m \u001b[38;5;21;01mpd\u001b[39;00m\n\u001b[0;32m      2\u001b[0m \u001b[38;5;28;01mimport\u001b[39;00m \u001b[38;5;21;01mmatplotlib\u001b[39;00m\u001b[38;5;21;01m.\u001b[39;00m\u001b[38;5;21;01mpyplot\u001b[39;00m \u001b[38;5;28;01mas\u001b[39;00m \u001b[38;5;21;01mplt\u001b[39;00m\n\u001b[1;32m----> 3\u001b[0m \u001b[38;5;28;01mimport\u001b[39;00m \u001b[38;5;21;01mseaborn\u001b[39;00m \u001b[38;5;28;01mas\u001b[39;00m \u001b[38;5;21;01msns\u001b[39;00m\n\u001b[0;32m      5\u001b[0m \u001b[38;5;66;03m# Load the data\u001b[39;00m\n\u001b[0;32m      6\u001b[0m data \u001b[38;5;241m=\u001b[39m pd\u001b[38;5;241m.\u001b[39mread_csv(\u001b[38;5;124m'\u001b[39m\u001b[38;5;124mdata/house_prices_multi.csv\u001b[39m\u001b[38;5;124m'\u001b[39m)\n",
      "\u001b[1;31mModuleNotFoundError\u001b[0m: No module named 'seaborn'"
     ]
    }
   ],
   "source": [
    "import pandas as pd\n",
    "import matplotlib.pyplot as plt\n",
    "import seaborn as sns\n",
    "\n",
    "# Load the data\n",
    "data = pd.read_csv('data/house_prices_multi.csv')\n",
    "\n",
    "# Scatter plot: Price vs Size (sqft)\n",
    "plt.figure(figsize=(8, 6))\n",
    "sns.scatterplot(data=data, x='Size (sqft)', y='Price', hue='Location')\n",
    "plt.title('Price vs Size (sqft)')\n",
    "plt.xlabel('Size (sqft)')\n",
    "plt.ylabel('Price')\n",
    "plt.grid(True)\n",
    "plt.show()\n",
    "\n",
    "# Box plot: Price by Location\n",
    "plt.figure(figsize=(8, 6))\n",
    "sns.boxplot(data=data, x='Location', y='Price')\n",
    "plt.title('Price Distribution by Location')\n",
    "plt.xlabel('Location')\n",
    "plt.ylabel('Price')\n",
    "plt.grid(True)\n",
    "plt.show()\n",
    "\n",
    "# Scatter plot: Price vs Bedrooms\n",
    "plt.figure(figsize=(8, 6))\n",
    "sns.scatterplot(data=data, x='Bedrooms', y='Price', hue='Location')\n",
    "plt.title('Price vs Bedrooms')\n",
    "plt.xlabel('Number of Bedrooms')\n",
    "plt.ylabel('Price')\n",
    "plt.grid(True)\n",
    "plt.show()\n",
    "\n",
    "# Pair plot to visualize relationships between variables\n",
    "sns.pairplot(data, hue='Location', height=3)\n",
    "plt.suptitle('Pair Plot of House Features', y=1.02)\n",
    "plt.show()"
   ]
  }
 ],
 "metadata": {
  "kernelspec": {
   "display_name": "venv",
   "language": "python",
   "name": "python3"
  },
  "language_info": {
   "codemirror_mode": {
    "name": "ipython",
    "version": 3
   },
   "file_extension": ".py",
   "mimetype": "text/x-python",
   "name": "python",
   "nbconvert_exporter": "python",
   "pygments_lexer": "ipython3",
   "version": "3.12.7"
  }
 },
 "nbformat": 4,
 "nbformat_minor": 5
}
