{
 "cells": [
  {
   "cell_type": "code",
   "execution_count": 3,
   "id": "aa9029e9",
   "metadata": {},
   "outputs": [
    {
     "ename": "ModuleNotFoundError",
     "evalue": "No module named 'pandas'",
     "output_type": "error",
     "traceback": [
      "\u001b[1;31m---------------------------------------------------------------------------\u001b[0m",
      "\u001b[1;31mModuleNotFoundError\u001b[0m                       Traceback (most recent call last)",
      "Cell \u001b[1;32mIn[3], line 1\u001b[0m\n\u001b[1;32m----> 1\u001b[0m \u001b[38;5;28;01mimport\u001b[39;00m \u001b[38;5;21;01mpandas\u001b[39;00m \u001b[38;5;28;01mas\u001b[39;00m \u001b[38;5;21;01mpd\u001b[39;00m\n\u001b[0;32m      2\u001b[0m \u001b[38;5;28;01mimport\u001b[39;00m \u001b[38;5;21;01mnumpy\u001b[39;00m \u001b[38;5;28;01mas\u001b[39;00m \u001b[38;5;21;01mnp\u001b[39;00m\n\u001b[0;32m      4\u001b[0m df \u001b[38;5;241m=\u001b[39m pd\u001b[38;5;241m.\u001b[39mread_csv(\u001b[38;5;124m'\u001b[39m\u001b[38;5;124mdata/updated_sample_data.csv\u001b[39m\u001b[38;5;124m'\u001b[39m)\n",
      "\u001b[1;31mModuleNotFoundError\u001b[0m: No module named 'pandas'"
     ]
    }
   ],
   "source": [
    "import pandas as pd\n",
    "import numpy as np\n",
    "\n",
    "df = pd.read_csv('data/updated_sample_data.csv')\n",
    "print(df.head())"
   ]
  },
  {
   "cell_type": "code",
   "execution_count": null,
   "id": "58ea92a0",
   "metadata": {},
   "outputs": [],
   "source": [
    "df.info()"
   ]
  },
  {
   "cell_type": "code",
   "execution_count": null,
   "id": "edbcef34",
   "metadata": {},
   "outputs": [],
   "source": [
    "df.describe() #25% 50% 75% are quartiles"
   ]
  },
  {
   "cell_type": "code",
   "execution_count": null,
   "id": "517fcf72",
   "metadata": {},
   "outputs": [],
   "source": [
    "df.isnull() # assigns as True each na value, else as False"
   ]
  },
  {
   "cell_type": "code",
   "execution_count": null,
   "id": "401bf5ba",
   "metadata": {},
   "outputs": [],
   "source": [
    "\n",
    "df.isnull().sum(axis=1) # #Returns the summation of na values per row\n"
   ]
  },
  {
   "cell_type": "code",
   "execution_count": null,
   "id": "053f3f9a",
   "metadata": {},
   "outputs": [],
   "source": [
    "df.isnull().sum() #Returns the summation of na values per columns"
   ]
  },
  {
   "cell_type": "code",
   "execution_count": null,
   "id": "c874c9b3",
   "metadata": {},
   "outputs": [],
   "source": [
    "missing_rows = df.isnull().any(axis=1) # selecting rows with na values as true else as false. any() would do same but in the column axis\n",
    "missing_rows"
   ]
  },
  {
   "cell_type": "code",
   "execution_count": null,
   "id": "0dfbd8fc",
   "metadata": {},
   "outputs": [],
   "source": [
    "df_missing_rows = df[missing_rows] #creating a df with the missing_rows\n",
    "df_missing_rows"
   ]
  },
  {
   "cell_type": "code",
   "execution_count": 27,
   "id": "27baf921",
   "metadata": {},
   "outputs": [],
   "source": [
    "#df['Salary'].fillna(0, inplace=True) #fill all na Salary values with 0\n",
    "# df.loc[8, 'Salary'] = 0 # fill na Salary value index 8 with 0\n",
    "#df['Age'].fillna(df['Age'].mean(), inplace=True) #Fill all na Age values with mean Age\n",
    "df.loc[8, 'Age'] = df['Age'].mean() # fill na Age value index 8 with mean Age\n",
    "df.loc[6, 'Salary'] = df['Salary'].median()"
   ]
  },
  {
   "cell_type": "code",
   "execution_count": 28,
   "id": "6a224534",
   "metadata": {},
   "outputs": [],
   "source": [
    "# before droping all rows with na values I fill the na values in rows I wanted to keep\n",
    "df.dropna(inplace = True) # drop all rows with na values"
   ]
  },
  {
   "cell_type": "code",
   "execution_count": null,
   "id": "951102c7",
   "metadata": {},
   "outputs": [],
   "source": [
    "df"
   ]
  },
  {
   "cell_type": "code",
   "execution_count": null,
   "id": "4a166940",
   "metadata": {},
   "outputs": [],
   "source": [
    "import pandas as pd\n",
    "import numpy as np\n",
    "\n",
    "data = {'A': [1, 2, np.nan, 4, 5, np.nan, 7, 8], 'B': [1, np.nan, 3, 4, 5, np.nan, 7, 8]}\n",
    "df2 = pd.DataFrame(data)\n",
    "df2"
   ]
  },
  {
   "cell_type": "code",
   "execution_count": null,
   "id": "e559fdee",
   "metadata": {},
   "outputs": [],
   "source": [
    "df2['A'] = df2['A'].interpolate(method = 'linear') #fills na values linearly based on neighbors avarage\n",
    "df2"
   ]
  }
 ],
 "metadata": {
  "kernelspec": {
   "display_name": "Python 3",
   "language": "python",
   "name": "python3"
  },
  "language_info": {
   "codemirror_mode": {
    "name": "ipython",
    "version": 3
   },
   "file_extension": ".py",
   "mimetype": "text/x-python",
   "name": "python",
   "nbconvert_exporter": "python",
   "pygments_lexer": "ipython3",
   "version": "3.13.0"
  }
 },
 "nbformat": 4,
 "nbformat_minor": 5
}
