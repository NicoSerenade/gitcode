{
 "cells": [
  {
   "cell_type": "code",
   "execution_count": 10,
   "id": "1bc5ab84",
   "metadata": {},
   "outputs": [
    {
     "data": {
      "text/html": [
       "<div>\n",
       "<style scoped>\n",
       "    .dataframe tbody tr th:only-of-type {\n",
       "        vertical-align: middle;\n",
       "    }\n",
       "\n",
       "    .dataframe tbody tr th {\n",
       "        vertical-align: top;\n",
       "    }\n",
       "\n",
       "    .dataframe thead th {\n",
       "        text-align: right;\n",
       "    }\n",
       "</style>\n",
       "<table border=\"1\" class=\"dataframe\">\n",
       "  <thead>\n",
       "    <tr style=\"text-align: right;\">\n",
       "      <th></th>\n",
       "      <th>Size</th>\n",
       "      <th>Price</th>\n",
       "    </tr>\n",
       "  </thead>\n",
       "  <tbody>\n",
       "    <tr>\n",
       "      <th>0</th>\n",
       "      <td>1500</td>\n",
       "      <td>300</td>\n",
       "    </tr>\n",
       "    <tr>\n",
       "      <th>1</th>\n",
       "      <td>1700</td>\n",
       "      <td>350</td>\n",
       "    </tr>\n",
       "    <tr>\n",
       "      <th>2</th>\n",
       "      <td>1800</td>\n",
       "      <td>360</td>\n",
       "    </tr>\n",
       "    <tr>\n",
       "      <th>3</th>\n",
       "      <td>2000</td>\n",
       "      <td>400</td>\n",
       "    </tr>\n",
       "    <tr>\n",
       "      <th>4</th>\n",
       "      <td>2100</td>\n",
       "      <td>420</td>\n",
       "    </tr>\n",
       "    <tr>\n",
       "      <th>5</th>\n",
       "      <td>2300</td>\n",
       "      <td>460</td>\n",
       "    </tr>\n",
       "    <tr>\n",
       "      <th>6</th>\n",
       "      <td>2500</td>\n",
       "      <td>500</td>\n",
       "    </tr>\n",
       "    <tr>\n",
       "      <th>7</th>\n",
       "      <td>2700</td>\n",
       "      <td>540</td>\n",
       "    </tr>\n",
       "    <tr>\n",
       "      <th>8</th>\n",
       "      <td>3000</td>\n",
       "      <td>600</td>\n",
       "    </tr>\n",
       "    <tr>\n",
       "      <th>9</th>\n",
       "      <td>3500</td>\n",
       "      <td>700</td>\n",
       "    </tr>\n",
       "  </tbody>\n",
       "</table>\n",
       "</div>"
      ],
      "text/plain": [
       "   Size  Price\n",
       "0  1500    300\n",
       "1  1700    350\n",
       "2  1800    360\n",
       "3  2000    400\n",
       "4  2100    420\n",
       "5  2300    460\n",
       "6  2500    500\n",
       "7  2700    540\n",
       "8  3000    600\n",
       "9  3500    700"
      ]
     },
     "execution_count": 10,
     "metadata": {},
     "output_type": "execute_result"
    }
   ],
   "source": [
    "import pandas as pd\n",
    "from sklearn.model_selection import train_test_split\n",
    "from sklearn.linear_model import LinearRegression\n",
    "from sklearn.metrics import mean_squared_error, r2_score\n",
    "import matplotlib.pyplot as plt\n",
    "\n",
    "# Step 1: Load the data from CSV\n",
    "data = pd.read_csv('data/house_prices.csv')\n",
    "data\n",
    "\n"
   ]
  },
  {
   "cell_type": "code",
   "execution_count": 11,
   "id": "b69dca83",
   "metadata": {},
   "outputs": [
    {
     "name": "stdout",
     "output_type": "stream",
     "text": [
      "   Size\n",
      "0  1500\n",
      "1  1700\n",
      "2  1800\n",
      "3  2000\n",
      "4  2100\n",
      "5  2300\n",
      "6  2500\n",
      "7  2700\n",
      "8  3000\n",
      "9  3500\n",
      "\n",
      "0    300\n",
      "1    350\n",
      "2    360\n",
      "3    400\n",
      "4    420\n",
      "5    460\n",
      "6    500\n",
      "7    540\n",
      "8    600\n",
      "9    700\n",
      "Name: Price, dtype: int64\n"
     ]
    }
   ],
   "source": [
    "# Step 2: Define features (X) and target (y)\n",
    "X = data[['Size']]  # Needs to be 2D for sklearn # if have more variables: X = data[['size', 'bedrooms']]\n",
    "y = data['Price']   # Target vector (what I want to predict)\n",
    "\n",
    "print(X)\n",
    "print('')\n",
    "print(y)"
   ]
  },
  {
   "cell_type": "code",
   "execution_count": 12,
   "id": "b027f4ee",
   "metadata": {},
   "outputs": [
    {
     "data": {
      "text/html": [
       "<div>\n",
       "<style scoped>\n",
       "    .dataframe tbody tr th:only-of-type {\n",
       "        vertical-align: middle;\n",
       "    }\n",
       "\n",
       "    .dataframe tbody tr th {\n",
       "        vertical-align: top;\n",
       "    }\n",
       "\n",
       "    .dataframe thead th {\n",
       "        text-align: right;\n",
       "    }\n",
       "</style>\n",
       "<table border=\"1\" class=\"dataframe\">\n",
       "  <thead>\n",
       "    <tr style=\"text-align: right;\">\n",
       "      <th></th>\n",
       "      <th>Size</th>\n",
       "    </tr>\n",
       "  </thead>\n",
       "  <tbody>\n",
       "    <tr>\n",
       "      <th>8</th>\n",
       "      <td>3000</td>\n",
       "    </tr>\n",
       "    <tr>\n",
       "      <th>1</th>\n",
       "      <td>1700</td>\n",
       "    </tr>\n",
       "  </tbody>\n",
       "</table>\n",
       "</div>"
      ],
      "text/plain": [
       "   Size\n",
       "8  3000\n",
       "1  1700"
      ]
     },
     "execution_count": 12,
     "metadata": {},
     "output_type": "execute_result"
    }
   ],
   "source": [
    "# Step 3: Split data into training and testing sets\n",
    "X_train, X_test, y_train, y_test = train_test_split(X, y, test_size=0.2, random_state=42) \n",
    "# test_size=0.2  sets the split in a way that 20% of the data will go to test variables, else 80% for training variables.\n",
    "# random_state=42 sets an specific seed for Randomness, thus every time I run the code, the same items will end up into the same 20% or 80%\n",
    "\n",
    "#Then (X_train, y_train) is used to train the model, and (X_test, y_test) to test its performance. In that way, test data will be new data that the model haven't seen before, allowing actually make predictions and not give memorized answers\n",
    "\n",
    "X_test\n",
    "\n",
    "\n"
   ]
  },
  {
   "cell_type": "code",
   "execution_count": 13,
   "id": "6e07624b",
   "metadata": {},
   "outputs": [
    {
     "name": "stdout",
     "output_type": "stream",
     "text": [
      "LinearRegression()\n"
     ]
    }
   ],
   "source": [
    "# Step 4: Train the Linear Regression Model\n",
    "model = LinearRegression() #this an object ' model' from the class 'LinearRegression' \n",
    "model.fit(X_train, y_train) #this train our model, so it can determine the best-fitting line (by calculating the slope and intercept) that minimizes the error\n",
    "\n",
    "print(model)"
   ]
  },
  {
   "cell_type": "code",
   "execution_count": 14,
   "id": "21456699",
   "metadata": {},
   "outputs": [
    {
     "name": "stdout",
     "output_type": "stream",
     "text": [
      "Mean Squared Error: 50.00000000000057\n",
      "R² Score: 0.9967999999999999\n"
     ]
    }
   ],
   "source": [
    "# Step 5: Evaluate the Model\n",
    "y_pred = model.predict(X_test) #returns the predicted targets (prices) for each (x_test) variable (sizes)\n",
    "mse = mean_squared_error(y_test, y_pred) #returns the average squared difference between the actual prices (y_test) and the predicted prices (y_pred).\n",
    "#Why the avarage squared?\n",
    "#1 Squaring makes larger errors more significant than smaller ones, penalizing predictions that are far from the true values more heavily.\n",
    "\n",
    "r2 = r2_score(y_test, y_pred) \n",
    "# The R² score indicates how much of the variability (difference between each price) in (y_test) is explained by the models predictions (y_pred).\n",
    "# It ranges from 0 to 1, where 1 means the model explains 100% of the variability in (y_test), and 0 means the model explains none of the variability, making predictions no better than the average of (y_test).\n",
    " \n",
    "print(f\"Mean Squared Error: {mse}\")\n",
    "print(f\"R² Score: {r2}\")\n",
    "\n"
   ]
  },
  {
   "cell_type": "code",
   "execution_count": 15,
   "id": "710289c5",
   "metadata": {},
   "outputs": [
    {
     "name": "stdout",
     "output_type": "stream",
     "text": [
      "Predicted Price for a 2800 sqft house: 560.0\n"
     ]
    }
   ],
   "source": [
    "# Step 6: Make Predictions\n",
    "new_house_size = pd.DataFrame([[2800]], columns=['Size']) \n",
    "#The DataFrame format for the value to predict is necessary because the predict() method expects input in this format (a 2D array).\n",
    "# I is also necessary because the model expect an input value into a column called \"Size\", which I set up at the beginnig.\n",
    "predicted_price = model.predict(new_house_size) #returns the predicted targets (prices) for each value to predict 'new_house_size' values.\n",
    "print(f\"Predicted Price for a {new_house_size.loc[0, 'Size']} sqft house: {predicted_price[0]}\")\n",
    "\n"
   ]
  },
  {
   "cell_type": "code",
   "execution_count": 16,
   "id": "f3e05946",
   "metadata": {},
   "outputs": [
    {
     "data": {
      "image/png": "[encoded data removed]",
      "text/plain": [
       "<Figure size 640x480 with 1 Axes>"
      ]
     },
     "metadata": {},
     "output_type": "display_data"
    }
   ],
   "source": [
    "# Optional: Visualization of the regression line\n",
    "plt.scatter(X_test, y_test, color='blue', label='Actual Prices')\n",
    "plt.plot(X_test, y_pred, color='red', label='Predicted Prices')\n",
    "plt.xlabel('Size (sqft)')\n",
    "plt.ylabel('Price (thousands)')\n",
    "plt.title('House Price Prediction')\n",
    "plt.legend()\n",
    "plt.show()"
   ]
  }
 ],
 "metadata": {
  "kernelspec": {
   "display_name": "venv",
   "language": "python",
   "name": "python3"
  },
  "language_info": {
   "codemirror_mode": {
    "name": "ipython",
    "version": 3
   },
   "file_extension": ".py",
   "mimetype": "text/x-python",
   "name": "python",
   "nbconvert_exporter": "python",
   "pygments_lexer": "ipython3",
   "version": "3.12.7"
  }
 },
 "nbformat": 4,
 "nbformat_minor": 5
}
